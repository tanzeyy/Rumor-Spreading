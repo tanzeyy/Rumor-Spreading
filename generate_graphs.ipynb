{
 "cells": [
  {
   "cell_type": "code",
   "execution_count": 7,
   "metadata": {
    "collapsed": true
   },
   "outputs": [],
   "source": [
    "import os\n",
    "graphs = os.listdir(\"data\")"
   ]
  },
  {
   "cell_type": "code",
   "execution_count": 8,
   "metadata": {},
   "outputs": [
    {
     "data": {
      "text/plain": [
       "['as-source-0-time-4-num-3079-total-6474.graph',\n",
       " 'fb-source-107-time-11-num-3483-total-4039.graph',\n",
       " 'gov-source-13-time-3-num-2193-total-7057.graph',\n",
       " 'politician-source-18-time-3-num-905-total-5908.graph',\n",
       " 'scale_free_2000-source-2-time-2-num-139-total-2000.graph',\n",
       " 'scale_free_500-source-0-time-5-num-408-total-500.graph',\n",
       " 'scale_free_5000-source-3-time-6-num-4097-total-5000.graph',\n",
       " 'small_world_1000-source-5-time-6-num-41-total-1000.graph',\n",
       " 'small_world_2000-source-22-time-2-num-6-total-2000.graph',\n",
       " 'small_world_500-source-0-time-18-num-146-total-500.graph',\n",
       " 'tvshow-source-3-time-3-num-196-total-3892.graph']"
      ]
     },
     "execution_count": 8,
     "metadata": {},
     "output_type": "execute_result"
    }
   ],
   "source": [
    "graphs"
   ]
  },
  {
   "cell_type": "code",
   "execution_count": 9,
   "metadata": {
    "collapsed": true
   },
   "outputs": [],
   "source": [
    "with open(\"graphs/graphs.txt\", \"w+\") as f:\n",
    "    for g in graphs:\n",
    "        f.write(g)\n",
    "        f.write('\\r')"
   ]
  },
  {
   "cell_type": "code",
   "execution_count": null,
   "metadata": {
    "collapsed": true
   },
   "outputs": [],
   "source": []
  }
 ],
 "metadata": {
  "kernelspec": {
   "display_name": "Python 3",
   "language": "python",
   "name": "python3"
  },
  "language_info": {
   "codemirror_mode": {
    "name": "ipython",
    "version": 3
   },
   "file_extension": ".py",
   "mimetype": "text/x-python",
   "name": "python",
   "nbconvert_exporter": "python",
   "pygments_lexer": "ipython3",
   "version": "3.6.2"
  }
 },
 "nbformat": 4,
 "nbformat_minor": 2
}
